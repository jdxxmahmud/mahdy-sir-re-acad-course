{
  "nbformat": 4,
  "nbformat_minor": 0,
  "metadata": {
    "colab": {
      "provenance": [],
      "gpuType": "T4",
      "authorship_tag": "ABX9TyM/4J24eaRyFc0OLuuCVTt5",
      "include_colab_link": true
    },
    "kernelspec": {
      "name": "python3",
      "display_name": "Python 3"
    },
    "language_info": {
      "name": "python"
    },
    "accelerator": "GPU"
  },
  "cells": [
    {
      "cell_type": "markdown",
      "metadata": {
        "id": "view-in-github",
        "colab_type": "text"
      },
      "source": [
        "<a href=\"https://colab.research.google.com/github/jdxxmahmud/mahdy-sir-re-acad-course/blob/main/Phase%201/Individual%20Assignments/Recorded%20Classes%20Notes/Deep%20Learning/Fully_Connected_Neural_Network.ipynb\" target=\"_parent\"><img src=\"https://colab.research.google.com/assets/colab-badge.svg\" alt=\"Open In Colab\"/></a>"
      ]
    },
    {
      "cell_type": "markdown",
      "source": [
        "### Importing Libraries"
      ],
      "metadata": {
        "id": "g0-_CYwwnqgB"
      }
    },
    {
      "cell_type": "code",
      "execution_count": 1,
      "metadata": {
        "id": "jzV-GIr9nmPH"
      },
      "outputs": [],
      "source": [
        "# Sequential API to create models\n",
        "from keras.models import Sequential\n",
        "\n",
        "# Components to create a model\n",
        "from keras.layers import Dense, Input\n",
        "\n",
        "# Stochastic Gradient Descent Algorithm\n",
        "from keras.optimizers import SGD\n",
        "\n",
        "# Keras already hosted MSIST dataset for us\n",
        "from keras.datasets import mnist\n",
        "\n",
        "# An keras utility to binarize integers\n",
        "from keras.utils import to_categorical\n",
        "\n",
        "# An keras utility to visualize model graph\n",
        "from keras.utils import plot_model\n",
        "\n",
        "# Another ML library that has many utilities for image operation\n",
        "import skimage\n",
        "\n",
        "# Here we will use only two of its utilities\n",
        "from skimage.io import imshow\n",
        "\n",
        "# For plotting graphs\n",
        "import matplotlib.pyplot as plt\n",
        "\n",
        "# Another python library to manipulate vectors, matrices, arrays etc\n",
        "import numpy as np\n"
      ]
    },
    {
      "cell_type": "markdown",
      "source": [
        "### Hyperparameters Parameters"
      ],
      "metadata": {
        "id": "P4OZkGl_vawz"
      }
    },
    {
      "cell_type": "code",
      "source": [
        "batch_size = 128  # Batch size for training data\n",
        "nb_classes = 10   # Number of classes in the classification problem, number of classes\n",
        "nb_epoch = 10     # Number of times for training"
      ],
      "metadata": {
        "id": "drD2I3Ygu_wV"
      },
      "execution_count": 2,
      "outputs": []
    },
    {
      "cell_type": "markdown",
      "source": [
        "### Load Data"
      ],
      "metadata": {
        "id": "61TWgAYGx010"
      }
    },
    {
      "cell_type": "code",
      "source": [
        "# Load MNIST Dataset\n",
        "# Data split into two sub-set training and test\n",
        "\n",
        "(X_train, y_train), (X_test, y_test) = mnist.load_data()"
      ],
      "metadata": {
        "colab": {
          "base_uri": "https://localhost:8080/"
        },
        "id": "-x5DT-ztx2LT",
        "outputId": "f6850485-3989-42b2-8e52-a2d55cd2e995"
      },
      "execution_count": 3,
      "outputs": [
        {
          "output_type": "stream",
          "name": "stdout",
          "text": [
            "Downloading data from https://storage.googleapis.com/tensorflow/tf-keras-datasets/mnist.npz\n",
            "11490434/11490434 [==============================] - 1s 0us/step\n"
          ]
        }
      ]
    },
    {
      "cell_type": "markdown",
      "source": [
        "### Data Statistics"
      ],
      "metadata": {
        "id": "TV-HDQtwyQCZ"
      }
    },
    {
      "cell_type": "code",
      "source": [
        "print(f\"Number of Training Samples: {len(X_train)}\")\n",
        "print(f\"Number of Associated Labels: {len(y_train)}\")"
      ],
      "metadata": {
        "colab": {
          "base_uri": "https://localhost:8080/"
        },
        "id": "jSwdKNkDx6sA",
        "outputId": "5a7b0b1b-827d-42df-891d-773c05a8d244"
      },
      "execution_count": 4,
      "outputs": [
        {
          "output_type": "stream",
          "name": "stdout",
          "text": [
            "Number of Training Samples: 60000\n",
            "Number of Associated Labels: 60000\n"
          ]
        }
      ]
    },
    {
      "cell_type": "code",
      "source": [
        "print(f\"Shape of Training Data: {X_train.shape}\")\n"
      ],
      "metadata": {
        "colab": {
          "base_uri": "https://localhost:8080/"
        },
        "id": "kap_y_t7yYkz",
        "outputId": "213ca6d5-ca25-4ae2-80db-8bc649146548"
      },
      "execution_count": 5,
      "outputs": [
        {
          "output_type": "stream",
          "name": "stdout",
          "text": [
            "Shape of Training Data: (60000, 28, 28)\n"
          ]
        }
      ]
    },
    {
      "cell_type": "code",
      "source": [
        "print(f\"Data Type of Training Samples: {X_train.dtype}\")\n"
      ],
      "metadata": {
        "colab": {
          "base_uri": "https://localhost:8080/"
        },
        "id": "x50755baybn9",
        "outputId": "64ef7562-17ae-4d84-838a-373e9c23f2b6"
      },
      "execution_count": 6,
      "outputs": [
        {
          "output_type": "stream",
          "name": "stdout",
          "text": [
            "Data Type of Training Samples: uint8\n"
          ]
        }
      ]
    },
    {
      "cell_type": "code",
      "source": [
        "print(f\"Number of Test Samples: {len(X_test)}\")\n",
        "print(f\"Number of Associated Labels: {len(y_test)}\")\n"
      ],
      "metadata": {
        "colab": {
          "base_uri": "https://localhost:8080/"
        },
        "id": "Jm_zqvn0yc20",
        "outputId": "1a3d1c6b-92c6-43e9-c610-cdadca4740a3"
      },
      "execution_count": 7,
      "outputs": [
        {
          "output_type": "stream",
          "name": "stdout",
          "text": [
            "Number of Test Samples: 10000\n",
            "Number of Associated Labels: 10000\n"
          ]
        }
      ]
    },
    {
      "cell_type": "code",
      "source": [
        "print(f\"Shape of Training Labels: {y_train.shape}\")\n"
      ],
      "metadata": {
        "colab": {
          "base_uri": "https://localhost:8080/"
        },
        "id": "qsRXS5Q_ydrX",
        "outputId": "fcf21e6b-ef94-4886-bd8c-88b03c22e79a"
      },
      "execution_count": 8,
      "outputs": [
        {
          "output_type": "stream",
          "name": "stdout",
          "text": [
            "Shape of Training Labels: (60000,)\n"
          ]
        }
      ]
    },
    {
      "cell_type": "code",
      "source": [
        "print(f\"Shape of Test Data: {X_test.shape}\")\n"
      ],
      "metadata": {
        "colab": {
          "base_uri": "https://localhost:8080/"
        },
        "id": "ieYAMz3nzDgq",
        "outputId": "50d03bf3-92da-48af-9819-b8aeaf2ff496"
      },
      "execution_count": 9,
      "outputs": [
        {
          "output_type": "stream",
          "name": "stdout",
          "text": [
            "Shape of Test Data: (10000, 28, 28)\n"
          ]
        }
      ]
    },
    {
      "cell_type": "code",
      "source": [
        "print(f\"Shape of Test Label: {y_test.shape}\")  # This is basically a column\n"
      ],
      "metadata": {
        "colab": {
          "base_uri": "https://localhost:8080/"
        },
        "id": "gV6kG6S8zlrS",
        "outputId": "50e13192-0667-4eb0-ee65-3e03bb23522e"
      },
      "execution_count": 10,
      "outputs": [
        {
          "output_type": "stream",
          "name": "stdout",
          "text": [
            "Shape of Test Label: (10000,)\n"
          ]
        }
      ]
    },
    {
      "cell_type": "markdown",
      "source": [
        "### Visualize Data"
      ],
      "metadata": {
        "id": "OJE2bFIEz0oR"
      }
    },
    {
      "cell_type": "code",
      "source": [
        "# A single sample among 60000 samples\n",
        "X_train[0].shape"
      ],
      "metadata": {
        "colab": {
          "base_uri": "https://localhost:8080/"
        },
        "id": "U3ssF_wGzuDI",
        "outputId": "1ccb9dc8-a813-4caf-c304-54f4dd23c413"
      },
      "execution_count": 11,
      "outputs": [
        {
          "output_type": "execute_result",
          "data": {
            "text/plain": [
              "(28, 28)"
            ]
          },
          "metadata": {},
          "execution_count": 11
        }
      ]
    },
    {
      "cell_type": "code",
      "source": [
        "a_random_sample = X_train[0]\n",
        "\n",
        "# Pixel value of the sample\n",
        "a_random_sample"
      ],
      "metadata": {
        "colab": {
          "base_uri": "https://localhost:8080/",
          "height": 68
        },
        "id": "PvfVC4iKz8EQ",
        "outputId": "3cbc15c7-daa5-40d2-9bf4-e3d1e0fbf302"
      },
      "execution_count": 12,
      "outputs": [
        {
          "output_type": "execute_result",
          "data": {
            "text/plain": [
              "array([[  0,   0,   0,   0,   0,   0,   0,   0,   0,   0,   0,   0,   0,\n",
              "          0,   0,   0,   0,   0,   0,   0,   0,   0,   0,   0,   0,   0,\n",
              "          0,   0],\n",
              "       [  0,   0,   0,   0,   0,   0,   0,   0,   0,   0,   0,   0,   0,\n",
              "          0,   0,   0,   0,   0,   0,   0,   0,   0,   0,   0,   0,   0,\n",
              "          0,   0],\n",
              "       [  0,   0,   0,   0,   0,   0,   0,   0,   0,   0,   0,   0,   0,\n",
              "          0,   0,   0,   0,   0,   0,   0,   0,   0,   0,   0,   0,   0,\n",
              "          0,   0],\n",
              "       [  0,   0,   0,   0,   0,   0,   0,   0,   0,   0,   0,   0,   0,\n",
              "          0,   0,   0,   0,   0,   0,   0,   0,   0,   0,   0,   0,   0,\n",
              "          0,   0],\n",
              "       [  0,   0,   0,   0,   0,   0,   0,   0,   0,   0,   0,   0,   0,\n",
              "          0,   0,   0,   0,   0,   0,   0,   0,   0,   0,   0,   0,   0,\n",
              "          0,   0],\n",
              "       [  0,   0,   0,   0,   0,   0,   0,   0,   0,   0,   0,   0,   3,\n",
              "         18,  18,  18, 126, 136, 175,  26, 166, 255, 247, 127,   0,   0,\n",
              "          0,   0],\n",
              "       [  0,   0,   0,   0,   0,   0,   0,   0,  30,  36,  94, 154, 170,\n",
              "        253, 253, 253, 253, 253, 225, 172, 253, 242, 195,  64,   0,   0,\n",
              "          0,   0],\n",
              "       [  0,   0,   0,   0,   0,   0,   0,  49, 238, 253, 253, 253, 253,\n",
              "        253, 253, 253, 253, 251,  93,  82,  82,  56,  39,   0,   0,   0,\n",
              "          0,   0],\n",
              "       [  0,   0,   0,   0,   0,   0,   0,  18, 219, 253, 253, 253, 253,\n",
              "        253, 198, 182, 247, 241,   0,   0,   0,   0,   0,   0,   0,   0,\n",
              "          0,   0],\n",
              "       [  0,   0,   0,   0,   0,   0,   0,   0,  80, 156, 107, 253, 253,\n",
              "        205,  11,   0,  43, 154,   0,   0,   0,   0,   0,   0,   0,   0,\n",
              "          0,   0],\n",
              "       [  0,   0,   0,   0,   0,   0,   0,   0,   0,  14,   1, 154, 253,\n",
              "         90,   0,   0,   0,   0,   0,   0,   0,   0,   0,   0,   0,   0,\n",
              "          0,   0],\n",
              "       [  0,   0,   0,   0,   0,   0,   0,   0,   0,   0,   0, 139, 253,\n",
              "        190,   2,   0,   0,   0,   0,   0,   0,   0,   0,   0,   0,   0,\n",
              "          0,   0],\n",
              "       [  0,   0,   0,   0,   0,   0,   0,   0,   0,   0,   0,  11, 190,\n",
              "        253,  70,   0,   0,   0,   0,   0,   0,   0,   0,   0,   0,   0,\n",
              "          0,   0],\n",
              "       [  0,   0,   0,   0,   0,   0,   0,   0,   0,   0,   0,   0,  35,\n",
              "        241, 225, 160, 108,   1,   0,   0,   0,   0,   0,   0,   0,   0,\n",
              "          0,   0],\n",
              "       [  0,   0,   0,   0,   0,   0,   0,   0,   0,   0,   0,   0,   0,\n",
              "         81, 240, 253, 253, 119,  25,   0,   0,   0,   0,   0,   0,   0,\n",
              "          0,   0],\n",
              "       [  0,   0,   0,   0,   0,   0,   0,   0,   0,   0,   0,   0,   0,\n",
              "          0,  45, 186, 253, 253, 150,  27,   0,   0,   0,   0,   0,   0,\n",
              "          0,   0],\n",
              "       [  0,   0,   0,   0,   0,   0,   0,   0,   0,   0,   0,   0,   0,\n",
              "          0,   0,  16,  93, 252, 253, 187,   0,   0,   0,   0,   0,   0,\n",
              "          0,   0],\n",
              "       [  0,   0,   0,   0,   0,   0,   0,   0,   0,   0,   0,   0,   0,\n",
              "          0,   0,   0,   0, 249, 253, 249,  64,   0,   0,   0,   0,   0,\n",
              "          0,   0],\n",
              "       [  0,   0,   0,   0,   0,   0,   0,   0,   0,   0,   0,   0,   0,\n",
              "          0,  46, 130, 183, 253, 253, 207,   2,   0,   0,   0,   0,   0,\n",
              "          0,   0],\n",
              "       [  0,   0,   0,   0,   0,   0,   0,   0,   0,   0,   0,   0,  39,\n",
              "        148, 229, 253, 253, 253, 250, 182,   0,   0,   0,   0,   0,   0,\n",
              "          0,   0],\n",
              "       [  0,   0,   0,   0,   0,   0,   0,   0,   0,   0,  24, 114, 221,\n",
              "        253, 253, 253, 253, 201,  78,   0,   0,   0,   0,   0,   0,   0,\n",
              "          0,   0],\n",
              "       [  0,   0,   0,   0,   0,   0,   0,   0,  23,  66, 213, 253, 253,\n",
              "        253, 253, 198,  81,   2,   0,   0,   0,   0,   0,   0,   0,   0,\n",
              "          0,   0],\n",
              "       [  0,   0,   0,   0,   0,   0,  18, 171, 219, 253, 253, 253, 253,\n",
              "        195,  80,   9,   0,   0,   0,   0,   0,   0,   0,   0,   0,   0,\n",
              "          0,   0],\n",
              "       [  0,   0,   0,   0,  55, 172, 226, 253, 253, 253, 253, 244, 133,\n",
              "         11,   0,   0,   0,   0,   0,   0,   0,   0,   0,   0,   0,   0,\n",
              "          0,   0],\n",
              "       [  0,   0,   0,   0, 136, 253, 253, 253, 212, 135, 132,  16,   0,\n",
              "          0,   0,   0,   0,   0,   0,   0,   0,   0,   0,   0,   0,   0,\n",
              "          0,   0],\n",
              "       [  0,   0,   0,   0,   0,   0,   0,   0,   0,   0,   0,   0,   0,\n",
              "          0,   0,   0,   0,   0,   0,   0,   0,   0,   0,   0,   0,   0,\n",
              "          0,   0],\n",
              "       [  0,   0,   0,   0,   0,   0,   0,   0,   0,   0,   0,   0,   0,\n",
              "          0,   0,   0,   0,   0,   0,   0,   0,   0,   0,   0,   0,   0,\n",
              "          0,   0],\n",
              "       [  0,   0,   0,   0,   0,   0,   0,   0,   0,   0,   0,   0,   0,\n",
              "          0,   0,   0,   0,   0,   0,   0,   0,   0,   0,   0,   0,   0,\n",
              "          0,   0]], dtype=uint8)"
            ],
            "text/html": [
              "<style>\n",
              "      .ndarray_repr .ndarray_raw_data {\n",
              "        display: none;\n",
              "      }\n",
              "      .ndarray_repr.show_array .ndarray_raw_data {\n",
              "        display: block;\n",
              "      }\n",
              "      .ndarray_repr.show_array .ndarray_image_preview {\n",
              "        display: none;\n",
              "      }\n",
              "      </style>\n",
              "      <div id=\"id-f1b06e32-6417-4d26-b3ef-a940515c4401\" class=\"ndarray_repr\"><pre>ndarray (28, 28) <button style=\"padding: 0 2px;\">show data</button></pre><img src=\"data:image/png;base64,iVBORw0KGgoAAAANSUhEUgAAABwAAAAcCAAAAABXZoBIAAABAElEQVR4nGNgGMyAWUhIqK5jvdSy/9/rGRgYGFhgEnJsVjYCwQwMDAxPJgV+vniQgYGBgREqZ7iXH8r6l/SV4dn7m8gmCt3++/fv37/Htn3/iMW+gDnZf/+e5WbQnoXNNXyMs/5GoQoxwVmf/n9kSGFiwAW49/11wynJoPzx4YIcRlyygR/+/i2XxCWru+vv32nSuGQFYv/83Y3b4p9/fzpAmSyoMnohpiwM1w5h06Q+5enfv39/bcMiJVF09+/fv39P+mFKiTtd/fv3799jgZiBJLT69t+/f/8eDuDEkDJf8+jv379/v7Ryo4qzMDAwMAQGMjBc3/y35wM2V1IfAABFF16Aa0wAOwAAAABJRU5ErkJggg==\" class=\"ndarray_image_preview\" /><pre class=\"ndarray_raw_data\">array([[  0,   0,   0,   0,   0,   0,   0,   0,   0,   0,   0,   0,   0,\n",
              "          0,   0,   0,   0,   0,   0,   0,   0,   0,   0,   0,   0,   0,\n",
              "          0,   0],\n",
              "       [  0,   0,   0,   0,   0,   0,   0,   0,   0,   0,   0,   0,   0,\n",
              "          0,   0,   0,   0,   0,   0,   0,   0,   0,   0,   0,   0,   0,\n",
              "          0,   0],\n",
              "       [  0,   0,   0,   0,   0,   0,   0,   0,   0,   0,   0,   0,   0,\n",
              "          0,   0,   0,   0,   0,   0,   0,   0,   0,   0,   0,   0,   0,\n",
              "          0,   0],\n",
              "       [  0,   0,   0,   0,   0,   0,   0,   0,   0,   0,   0,   0,   0,\n",
              "          0,   0,   0,   0,   0,   0,   0,   0,   0,   0,   0,   0,   0,\n",
              "          0,   0],\n",
              "       [  0,   0,   0,   0,   0,   0,   0,   0,   0,   0,   0,   0,   0,\n",
              "          0,   0,   0,   0,   0,   0,   0,   0,   0,   0,   0,   0,   0,\n",
              "          0,   0],\n",
              "       [  0,   0,   0,   0,   0,   0,   0,   0,   0,   0,   0,   0,   3,\n",
              "         18,  18,  18, 126, 136, 175,  26, 166, 255, 247, 127,   0,   0,\n",
              "          0,   0],\n",
              "       [  0,   0,   0,   0,   0,   0,   0,   0,  30,  36,  94, 154, 170,\n",
              "        253, 253, 253, 253, 253, 225, 172, 253, 242, 195,  64,   0,   0,\n",
              "          0,   0],\n",
              "       [  0,   0,   0,   0,   0,   0,   0,  49, 238, 253, 253, 253, 253,\n",
              "        253, 253, 253, 253, 251,  93,  82,  82,  56,  39,   0,   0,   0,\n",
              "          0,   0],\n",
              "       [  0,   0,   0,   0,   0,   0,   0,  18, 219, 253, 253, 253, 253,\n",
              "        253, 198, 182, 247, 241,   0,   0,   0,   0,   0,   0,   0,   0,\n",
              "          0,   0],\n",
              "       [  0,   0,   0,   0,   0,   0,   0,   0,  80, 156, 107, 253, 253,\n",
              "        205,  11,   0,  43, 154,   0,   0,   0,   0,   0,   0,   0,   0,\n",
              "          0,   0],\n",
              "       [  0,   0,   0,   0,   0,   0,   0,   0,   0,  14,   1, 154, 253,\n",
              "         90,   0,   0,   0,   0,   0,   0,   0,   0,   0,   0,   0,   0,\n",
              "          0,   0],\n",
              "       [  0,   0,   0,   0,   0,   0,   0,   0,   0,   0,   0, 139, 253,\n",
              "        190,   2,   0,   0,   0,   0,   0,   0,   0,   0,   0,   0,   0,\n",
              "          0,   0],\n",
              "       [  0,   0,   0,   0,   0,   0,   0,   0,   0,   0,   0,  11, 190,\n",
              "        253,  70,   0,   0,   0,   0,   0,   0,   0,   0,   0,   0,   0,\n",
              "          0,   0],\n",
              "       [  0,   0,   0,   0,   0,   0,   0,   0,   0,   0,   0,   0,  35,\n",
              "        241, 225, 160, 108,   1,   0,   0,   0,   0,   0,   0,   0,   0,\n",
              "          0,   0],\n",
              "       [  0,   0,   0,   0,   0,   0,   0,   0,   0,   0,   0,   0,   0,\n",
              "         81, 240, 253, 253, 119,  25,   0,   0,   0,   0,   0,   0,   0,\n",
              "          0,   0],\n",
              "       [  0,   0,   0,   0,   0,   0,   0,   0,   0,   0,   0,   0,   0,\n",
              "          0,  45, 186, 253, 253, 150,  27,   0,   0,   0,   0,   0,   0,\n",
              "          0,   0],\n",
              "       [  0,   0,   0,   0,   0,   0,   0,   0,   0,   0,   0,   0,   0,\n",
              "          0,   0,  16,  93, 252, 253, 187,   0,   0,   0,   0,   0,   0,\n",
              "          0,   0],\n",
              "       [  0,   0,   0,   0,   0,   0,   0,   0,   0,   0,   0,   0,   0,\n",
              "          0,   0,   0,   0, 249, 253, 249,  64,   0,   0,   0,   0,   0,\n",
              "          0,   0],\n",
              "       [  0,   0,   0,   0,   0,   0,   0,   0,   0,   0,   0,   0,   0,\n",
              "          0,  46, 130, 183, 253, 253, 207,   2,   0,   0,   0,   0,   0,\n",
              "          0,   0],\n",
              "       [  0,   0,   0,   0,   0,   0,   0,   0,   0,   0,   0,   0,  39,\n",
              "        148, 229, 253, 253, 253, 250, 182,   0,   0,   0,   0,   0,   0,\n",
              "          0,   0],\n",
              "       [  0,   0,   0,   0,   0,   0,   0,   0,   0,   0,  24, 114, 221,\n",
              "        253, 253, 253, 253, 201,  78,   0,   0,   0,   0,   0,   0,   0,\n",
              "          0,   0],\n",
              "       [  0,   0,   0,   0,   0,   0,   0,   0,  23,  66, 213, 253, 253,\n",
              "        253, 253, 198,  81,   2,   0,   0,   0,   0,   0,   0,   0,   0,\n",
              "          0,   0],\n",
              "       [  0,   0,   0,   0,   0,   0,  18, 171, 219, 253, 253, 253, 253,\n",
              "        195,  80,   9,   0,   0,   0,   0,   0,   0,   0,   0,   0,   0,\n",
              "          0,   0],\n",
              "       [  0,   0,   0,   0,  55, 172, 226, 253, 253, 253, 253, 244, 133,\n",
              "         11,   0,   0,   0,   0,   0,   0,   0,   0,   0,   0,   0,   0,\n",
              "          0,   0],\n",
              "       [  0,   0,   0,   0, 136, 253, 253, 253, 212, 135, 132,  16,   0,\n",
              "          0,   0,   0,   0,   0,   0,   0,   0,   0,   0,   0,   0,   0,\n",
              "          0,   0],\n",
              "       [  0,   0,   0,   0,   0,   0,   0,   0,   0,   0,   0,   0,   0,\n",
              "          0,   0,   0,   0,   0,   0,   0,   0,   0,   0,   0,   0,   0,\n",
              "          0,   0],\n",
              "       [  0,   0,   0,   0,   0,   0,   0,   0,   0,   0,   0,   0,   0,\n",
              "          0,   0,   0,   0,   0,   0,   0,   0,   0,   0,   0,   0,   0,\n",
              "          0,   0],\n",
              "       [  0,   0,   0,   0,   0,   0,   0,   0,   0,   0,   0,   0,   0,\n",
              "          0,   0,   0,   0,   0,   0,   0,   0,   0,   0,   0,   0,   0,\n",
              "          0,   0]], dtype=uint8)</pre></div><script>\n",
              "      (() => {\n",
              "      const titles = ['show data', 'hide data'];\n",
              "      let index = 0\n",
              "      document.querySelector('#id-f1b06e32-6417-4d26-b3ef-a940515c4401 button').onclick = (e) => {\n",
              "        document.querySelector('#id-f1b06e32-6417-4d26-b3ef-a940515c4401').classList.toggle('show_array');\n",
              "        index = (++index) % 2;\n",
              "        document.querySelector('#id-f1b06e32-6417-4d26-b3ef-a940515c4401 button').textContent = titles[index];\n",
              "        e.preventDefault();\n",
              "        e.stopPropagation();\n",
              "      }\n",
              "      })();\n",
              "    </script>"
            ]
          },
          "metadata": {},
          "execution_count": 12
        }
      ]
    },
    {
      "cell_type": "code",
      "source": [
        "# Show as image\n",
        "\n",
        "imshow(a_random_sample)"
      ],
      "metadata": {
        "colab": {
          "base_uri": "https://localhost:8080/",
          "height": 504
        },
        "id": "8nBD3BNW0HHJ",
        "outputId": "23a932b3-b4c3-45c6-dee4-839584f8ff3d"
      },
      "execution_count": 13,
      "outputs": [
        {
          "output_type": "execute_result",
          "data": {
            "text/plain": [
              "<matplotlib.image.AxesImage at 0x7e074faf0760>"
            ]
          },
          "metadata": {},
          "execution_count": 13
        },
        {
          "output_type": "display_data",
          "data": {
            "text/plain": [
              "<Figure size 640x480 with 1 Axes>"
            ],
            "image/png": "[encoded data removed]"
          },
          "metadata": {}
        }
      ]
    },
    {
      "cell_type": "markdown",
      "source": [
        "Plotting multiple images"
      ],
      "metadata": {
        "id": "pxlE2qjY0WW2"
      }
    },
    {
      "cell_type": "code",
      "source": [
        "# Define the size of the figure\n",
        "plt.figure(figsize=(10, 10))\n",
        "\n",
        "for i in range(9):\n",
        "  ax = plt.subplot(3, 3, i + 1)\n",
        "\n",
        "  # Get a sample at index i\n",
        "  one_image = X_train[i]\n",
        "\n",
        "  # Display the sample\n",
        "  plt.imshow(one_image)\n",
        "\n",
        "  # Display the label of the sample as titlt\n",
        "  plt.title(int(y_train[i]))\n",
        "\n",
        "  plt.axis(\"off\")"
      ],
      "metadata": {
        "colab": {
          "base_uri": "https://localhost:8080/",
          "height": 829
        },
        "id": "TrM5RiA50No7",
        "outputId": "f26cfef7-bab9-44d0-a66c-ebe5d688e8a1"
      },
      "execution_count": 14,
      "outputs": [
        {
          "output_type": "display_data",
          "data": {
            "text/plain": [
              "<Figure size 1000x1000 with 9 Axes>"
            ],
            "image/png": "[encoded data removed]"
          },
          "metadata": {}
        }
      ]
    },
    {
      "cell_type": "markdown",
      "source": [
        "### Reshape and Flatten Data"
      ],
      "metadata": {
        "id": "A23BKg5c1XsI"
      }
    },
    {
      "cell_type": "code",
      "source": [
        "print(\"Shape of Training Data: \", X_train.shape)\n",
        "print(\"Shape of Training Sample: \", X_train[0].shape)"
      ],
      "metadata": {
        "colab": {
          "base_uri": "https://localhost:8080/"
        },
        "id": "TD9R5-H80cuX",
        "outputId": "1a79fcc4-3cc2-4ea6-8345-65c41b0af6b8"
      },
      "execution_count": 15,
      "outputs": [
        {
          "output_type": "stream",
          "name": "stdout",
          "text": [
            "Shape of Training Data:  (60000, 28, 28)\n",
            "Shape of Training Sample:  (28, 28)\n"
          ]
        }
      ]
    },
    {
      "cell_type": "code",
      "source": [
        "# Get a sample image\n",
        "img = X_train[0]\n",
        "\n",
        "print(f\"Shape of a Sample Image: {img.shape}\")\n",
        "\n",
        "# Define new shape and flatten the image\n",
        "new_shape = 28 * 28\n",
        "flattened_img = img.reshape(new_shape, )\n",
        "print(f\"Shape of the flattened Image: {flattened_img.shape}\")"
      ],
      "metadata": {
        "colab": {
          "base_uri": "https://localhost:8080/"
        },
        "id": "-QVrCnUd1ov4",
        "outputId": "aa35cb80-f308-4ef2-e6a0-31440173fbca"
      },
      "execution_count": 16,
      "outputs": [
        {
          "output_type": "stream",
          "name": "stdout",
          "text": [
            "Shape of a Sample Image: (28, 28)\n",
            "Shape of the flattened Image: (784,)\n"
          ]
        }
      ]
    },
    {
      "cell_type": "code",
      "source": [
        "print(f\"Previous shape of X_train: {X_train.shape}\")\n",
        "\n",
        "# Flatten the whole training data\n",
        "X_train = X_train.reshape(60000, 784)\n",
        "\n",
        "\n",
        "print(f\"New Shape of X_train: {X_train.shape}\")"
      ],
      "metadata": {
        "colab": {
          "base_uri": "https://localhost:8080/"
        },
        "id": "amQmRuhr2EYZ",
        "outputId": "ed6a116d-ad09-45a2-84d6-b3403eb48f07"
      },
      "execution_count": 17,
      "outputs": [
        {
          "output_type": "stream",
          "name": "stdout",
          "text": [
            "Previous shape of X_train: (60000, 28, 28)\n",
            "New Shape of X_train: (60000, 784)\n"
          ]
        }
      ]
    },
    {
      "cell_type": "code",
      "source": [
        "print(f\"Previous shape of X_test: {X_test.shape}\")\n",
        "\n",
        "# Flatten the whole training data\n",
        "X_test = X_test.reshape(10000, 784)\n",
        "\n",
        "\n",
        "print(f\"New Shape of X_test: {X_test.shape}\")"
      ],
      "metadata": {
        "colab": {
          "base_uri": "https://localhost:8080/"
        },
        "id": "cviiOwAV2LLT",
        "outputId": "3dbf297a-633d-4fb4-ec44-f58fdb8217c3"
      },
      "execution_count": 18,
      "outputs": [
        {
          "output_type": "stream",
          "name": "stdout",
          "text": [
            "Previous shape of X_test: (10000, 28, 28)\n",
            "New Shape of X_test: (10000, 784)\n"
          ]
        }
      ]
    },
    {
      "cell_type": "markdown",
      "source": [
        "Change datatype of Train and Test Data\n"
      ],
      "metadata": {
        "id": "Onm6qOA26KfN"
      }
    },
    {
      "cell_type": "code",
      "source": [
        "print(f\"Previous Data Types\\n\\tTrain Data: {X_train.dtype} \\n\\tTest Data: {X_test.dtype}\")\n",
        "X_train = X_train.astype('float32')\n",
        "X_test = X_test.astype('float32')\n",
        "print(f\"New Data Types\\n\\tTrain Data: {X_train.dtype} \\n\\tTest Data: {X_test.dtype}\")"
      ],
      "metadata": {
        "colab": {
          "base_uri": "https://localhost:8080/"
        },
        "id": "GQOwfp_I6C8P",
        "outputId": "4809cca8-9bde-42b6-b858-af901680d0a3"
      },
      "execution_count": 19,
      "outputs": [
        {
          "output_type": "stream",
          "name": "stdout",
          "text": [
            "Previous Data Types\n",
            "\tTrain Data: uint8 \n",
            "\tTest Data: uint8\n",
            "New Data Types\n",
            "\tTrain Data: float32 \n",
            "\tTest Data: float32\n"
          ]
        }
      ]
    },
    {
      "cell_type": "markdown",
      "source": [
        "### Rescaling Data"
      ],
      "metadata": {
        "id": "Ekwh9IaF6qgH"
      }
    },
    {
      "cell_type": "code",
      "source": [
        "def print_min_max_val_of_sample(rand_sample):\n",
        "\n",
        "  print(f\"Min Value of sample: {rand_sample.min()}\")\n",
        "  print(f\"Max Value of sample: {rand_sample.max()}\")"
      ],
      "metadata": {
        "id": "BZQP5VkY5s5X"
      },
      "execution_count": 20,
      "outputs": []
    },
    {
      "cell_type": "code",
      "source": [
        "print_min_max_val_of_sample(X_train[0])"
      ],
      "metadata": {
        "colab": {
          "base_uri": "https://localhost:8080/"
        },
        "id": "vKFGmihJ7QFw",
        "outputId": "1cc60135-57f0-4b42-c28c-6d75537eebe6"
      },
      "execution_count": 21,
      "outputs": [
        {
          "output_type": "stream",
          "name": "stdout",
          "text": [
            "Min Value of sample: 0.0\n",
            "Max Value of sample: 255.0\n"
          ]
        }
      ]
    },
    {
      "cell_type": "markdown",
      "source": [
        "Devide each value in Train and Test Data by 255"
      ],
      "metadata": {
        "id": "ky0-jBNb69My"
      }
    },
    {
      "cell_type": "code",
      "source": [
        "X_train /= 255\n",
        "X_test /= 255"
      ],
      "metadata": {
        "id": "_oeeh48W66DF"
      },
      "execution_count": 22,
      "outputs": []
    },
    {
      "cell_type": "code",
      "source": [
        "print_min_max_val_of_sample(X_train[0])\n"
      ],
      "metadata": {
        "colab": {
          "base_uri": "https://localhost:8080/"
        },
        "id": "c-p9mgo87Djs",
        "outputId": "aba5aa4c-1225-4821-aa8f-e631e7a7f6cf"
      },
      "execution_count": 23,
      "outputs": [
        {
          "output_type": "stream",
          "name": "stdout",
          "text": [
            "Min Value of sample: 0.0\n",
            "Max Value of sample: 1.0\n"
          ]
        }
      ]
    },
    {
      "cell_type": "markdown",
      "source": [
        "### Binarize Labels"
      ],
      "metadata": {
        "id": "Ul2JouUb7eAG"
      }
    },
    {
      "cell_type": "markdown",
      "source": [
        "Display training labels"
      ],
      "metadata": {
        "id": "P2J0h5GZ7n3x"
      }
    },
    {
      "cell_type": "code",
      "source": [
        "y_train"
      ],
      "metadata": {
        "colab": {
          "base_uri": "https://localhost:8080/"
        },
        "id": "OpgUudU37ZUy",
        "outputId": "f6f8da99-e04a-4269-98c5-1f208b8421a3"
      },
      "execution_count": 24,
      "outputs": [
        {
          "output_type": "execute_result",
          "data": {
            "text/plain": [
              "array([5, 0, 4, ..., 5, 6, 8], dtype=uint8)"
            ]
          },
          "metadata": {},
          "execution_count": 24
        }
      ]
    },
    {
      "cell_type": "markdown",
      "source": [
        "This is basically a column. So following will be the shape"
      ],
      "metadata": {
        "id": "mU06jHcS7qXU"
      }
    },
    {
      "cell_type": "code",
      "source": [
        "y_train.shape"
      ],
      "metadata": {
        "colab": {
          "base_uri": "https://localhost:8080/"
        },
        "id": "8Lssxb_O7hJW",
        "outputId": "5bbbc15a-6ccb-4527-d9f6-f0a7434522ab"
      },
      "execution_count": 25,
      "outputs": [
        {
          "output_type": "execute_result",
          "data": {
            "text/plain": [
              "(60000,)"
            ]
          },
          "metadata": {},
          "execution_count": 25
        }
      ]
    },
    {
      "cell_type": "markdown",
      "source": [
        "### Array to categorial data"
      ],
      "metadata": {
        "id": "7okc0PaV77Qy"
      }
    },
    {
      "cell_type": "code",
      "source": [
        "input_arr = np.array(range(10))\n",
        "print(input_arr)\n",
        "print(f\"Input list shape: {input_arr.shape}\")\n",
        "\n",
        "output = to_categorical(input_arr, num_classes = 10)\n",
        "\n",
        "print(output)\n",
        "print(f\"Output list shape: {output.shape}\")"
      ],
      "metadata": {
        "colab": {
          "base_uri": "https://localhost:8080/"
        },
        "id": "oYz6TYD17l0U",
        "outputId": "a233ea31-f0ba-4e73-86a5-89ed491bb042"
      },
      "execution_count": 26,
      "outputs": [
        {
          "output_type": "stream",
          "name": "stdout",
          "text": [
            "[0 1 2 3 4 5 6 7 8 9]\n",
            "Input list shape: (10,)\n",
            "[[1. 0. 0. 0. 0. 0. 0. 0. 0. 0.]\n",
            " [0. 1. 0. 0. 0. 0. 0. 0. 0. 0.]\n",
            " [0. 0. 1. 0. 0. 0. 0. 0. 0. 0.]\n",
            " [0. 0. 0. 1. 0. 0. 0. 0. 0. 0.]\n",
            " [0. 0. 0. 0. 1. 0. 0. 0. 0. 0.]\n",
            " [0. 0. 0. 0. 0. 1. 0. 0. 0. 0.]\n",
            " [0. 0. 0. 0. 0. 0. 1. 0. 0. 0.]\n",
            " [0. 0. 0. 0. 0. 0. 0. 1. 0. 0.]\n",
            " [0. 0. 0. 0. 0. 0. 0. 0. 1. 0.]\n",
            " [0. 0. 0. 0. 0. 0. 0. 0. 0. 1.]]\n",
            "Output list shape: (10, 10)\n"
          ]
        }
      ]
    },
    {
      "cell_type": "markdown",
      "source": [
        "Applying this to the training and test labels"
      ],
      "metadata": {
        "id": "1gzp8Jxl8Z3O"
      }
    },
    {
      "cell_type": "code",
      "source": [
        "Y_train = to_categorical(y_train, nb_classes)\n",
        "Y_test = to_categorical(y_test, nb_classes)"
      ],
      "metadata": {
        "id": "neLoHtfQ8VbZ"
      },
      "execution_count": 27,
      "outputs": []
    },
    {
      "cell_type": "markdown",
      "source": [
        "### Define Model"
      ],
      "metadata": {
        "id": "elc4dqSp8sXz"
      }
    },
    {
      "cell_type": "code",
      "source": [
        "# Multilayer Perceptron Model\n",
        "\n",
        "# We want to create a sequentially stacked model using keras Sequential API\n",
        "model = Sequential()\n",
        "\n",
        "# Setup input layer\n",
        "model.add(Input(shape=(784, )))\n",
        "\n",
        "# 1st Later in the model to receive inputs\n",
        "model.add(Dense(784, activation = 'relu'))\n",
        "\n",
        "# Hidden Layer\n",
        "model.add(Dense(625, activation = 'relu'))\n",
        "\n",
        "# Output Layer\n",
        "model.add(Dense(10, activation = 'softmax'))   # Multiclass Classification, we use softmax"
      ],
      "metadata": {
        "id": "2GNkAmMI8rsa"
      },
      "execution_count": 28,
      "outputs": []
    },
    {
      "cell_type": "markdown",
      "source": [
        "### Compile Model"
      ],
      "metadata": {
        "id": "nm-_Z26e9OMG"
      }
    },
    {
      "cell_type": "code",
      "source": [
        "# Choose Learning Rate\n",
        "learning_rate = 0.001\n",
        "\n",
        "# Select Optimizer\n",
        "optimizer = SGD(learning_rate = learning_rate)\n",
        "\n",
        "# Select loss function\n",
        "loss = 'categorical_crossentropy'\n",
        "\n",
        "# Select evaluation metrics\n",
        "metrics = ['accuracy']\n",
        "\n",
        "# Model compilation\n",
        "model.compile(optimizer = optimizer, loss = loss, metrics=metrics)"
      ],
      "metadata": {
        "id": "bc__j4FV8wMZ"
      },
      "execution_count": 29,
      "outputs": []
    },
    {
      "cell_type": "markdown",
      "source": [
        "### Visualize Model"
      ],
      "metadata": {
        "id": "toqSNYUo9wml"
      }
    },
    {
      "cell_type": "code",
      "source": [
        "# A summary of inputs, outputs in each layer\n",
        "model.summary()"
      ],
      "metadata": {
        "colab": {
          "base_uri": "https://localhost:8080/"
        },
        "id": "jYjiIhp49vOv",
        "outputId": "7c43a5a9-d990-4acc-ff8e-759e3b50abc0"
      },
      "execution_count": 30,
      "outputs": [
        {
          "output_type": "stream",
          "name": "stdout",
          "text": [
            "Model: \"sequential\"\n",
            "_________________________________________________________________\n",
            " Layer (type)                Output Shape              Param #   \n",
            "=================================================================\n",
            " dense (Dense)               (None, 784)               615440    \n",
            "                                                                 \n",
            " dense_1 (Dense)             (None, 625)               490625    \n",
            "                                                                 \n",
            " dense_2 (Dense)             (None, 10)                6260      \n",
            "                                                                 \n",
            "=================================================================\n",
            "Total params: 1112325 (4.24 MB)\n",
            "Trainable params: 1112325 (4.24 MB)\n",
            "Non-trainable params: 0 (0.00 Byte)\n",
            "_________________________________________________________________\n"
          ]
        }
      ]
    },
    {
      "cell_type": "markdown",
      "source": [
        "### Formula"
      ],
      "metadata": {
        "id": "-4BLFSdJ96k9"
      }
    },
    {
      "cell_type": "markdown",
      "source": [
        "$inputs * outputs + bias$ \\\\\n",
        "\n",
        "Params in 1st layer: \\\\\n",
        "$inputs = 784$ \\\\\n",
        "$outputs = 784$ \\\\\n",
        "$bias = 784$ \\\\\n",
        "$Total Param = 784 * 784 + 784 = 615440$ \\\\\n",
        "\n",
        "Params in Hidden layer: \\\\\n",
        "$inputs = 784$ \\\\\n",
        "$outputs = 625$ \\\\\n",
        "$bias = 625$ \\\\\n",
        "$Total Param = 784 * 625 + 625 = 490625$ \\\\\n",
        "\n",
        "Params in Output layer: \\\\\n",
        "$inputs = 625$ \\\\\n",
        "$outputs = 10$ \\\\\n",
        "$bias = 10$ \\\\\n",
        "$Total Param = 625 * 10 + 10 = 6260$ \\\\\n",
        "\n",
        "Total Trainable Params: \\\\\n",
        "$615440+490625+6260 = 1112325$\n",
        "\n"
      ],
      "metadata": {
        "id": "S6Dj0QVW9-T9"
      }
    },
    {
      "cell_type": "code",
      "source": [
        "plot_model(model)"
      ],
      "metadata": {
        "colab": {
          "base_uri": "https://localhost:8080/",
          "height": 369
        },
        "id": "atIFqb7L941R",
        "outputId": "ad63a1b2-981a-433e-fa1a-eeda3584e28b"
      },
      "execution_count": 31,
      "outputs": [
        {
          "output_type": "execute_result",
          "data": {
            "image/png": "[encoded data removed]",
            "text/plain": [
              "<IPython.core.display.Image object>"
            ]
          },
          "metadata": {},
          "execution_count": 31
        }
      ]
    },
    {
      "cell_type": "markdown",
      "source": [
        "### Model Training"
      ],
      "metadata": {
        "id": "1McokbPZBcEC"
      }
    },
    {
      "cell_type": "code",
      "source": [
        "# Train\n",
        "history = model.fit(X_train, Y_train, epochs = nb_epoch, batch_size = batch_size)"
      ],
      "metadata": {
        "colab": {
          "base_uri": "https://localhost:8080/"
        },
        "id": "gjbY-43nBOCj",
        "outputId": "ddfb7a88-af3a-454c-84dd-6fcdae16b24c"
      },
      "execution_count": 32,
      "outputs": [
        {
          "output_type": "stream",
          "name": "stdout",
          "text": [
            "Epoch 1/10\n",
            "469/469 [==============================] - 6s 7ms/step - loss: 2.1310 - accuracy: 0.3571\n",
            "Epoch 2/10\n",
            "469/469 [==============================] - 4s 8ms/step - loss: 1.7476 - accuracy: 0.6821\n",
            "Epoch 3/10\n",
            "469/469 [==============================] - 3s 6ms/step - loss: 1.3968 - accuracy: 0.7643\n",
            "Epoch 4/10\n",
            "469/469 [==============================] - 2s 5ms/step - loss: 1.1176 - accuracy: 0.7993\n",
            "Epoch 5/10\n",
            "469/469 [==============================] - 2s 3ms/step - loss: 0.9232 - accuracy: 0.8222\n",
            "Epoch 6/10\n",
            "469/469 [==============================] - 2s 3ms/step - loss: 0.7920 - accuracy: 0.8369\n",
            "Epoch 7/10\n",
            "469/469 [==============================] - 2s 4ms/step - loss: 0.7009 - accuracy: 0.8467\n",
            "Epoch 8/10\n",
            "469/469 [==============================] - 2s 4ms/step - loss: 0.6350 - accuracy: 0.8550\n",
            "Epoch 9/10\n",
            "469/469 [==============================] - 2s 3ms/step - loss: 0.5852 - accuracy: 0.8624\n",
            "Epoch 10/10\n",
            "469/469 [==============================] - 2s 3ms/step - loss: 0.5466 - accuracy: 0.8681\n"
          ]
        }
      ]
    },
    {
      "cell_type": "markdown",
      "source": [
        "### Inference on Test Data"
      ],
      "metadata": {
        "id": "9v_v04nxBnbb"
      }
    },
    {
      "cell_type": "code",
      "source": [
        "# Evaluate\n",
        "evaluation = model.evaluate(X_test, Y_test)\n",
        "\n",
        "# Display test Statistics\n",
        "print(f\"Summary: \\n\\tLoss over the test dataset: {(evaluation[0] * 100):.2f}\\n\\t Accuracy: {(evaluation[1]* 100):.2f}\")\n",
        "\n"
      ],
      "metadata": {
        "colab": {
          "base_uri": "https://localhost:8080/"
        },
        "id": "_Rtkq5dlBkZw",
        "outputId": "091d696c-1344-4f1a-d1cb-765e8e6cd8f4"
      },
      "execution_count": 36,
      "outputs": [
        {
          "output_type": "stream",
          "name": "stdout",
          "text": [
            "313/313 [==============================] - 1s 4ms/step - loss: 0.5074 - accuracy: 0.8795\n",
            "Summary: \n",
            "\tLoss over the test dataset: 50.74\n",
            "\t Accuracy: 87.95\n"
          ]
        }
      ]
    },
    {
      "cell_type": "code",
      "source": [
        "# Get training loss histories\n",
        "training_loss = history.history['loss']\n",
        "\n",
        "# Create count of the number of epochs\n",
        "epoch_count = range(1, len(training_loss) + 1)\n",
        "\n",
        "# Visualize loss history\n",
        "plt.plot(epoch_count, training_loss, 'r--')\n",
        "plt.legend(['Training Loss'])\n",
        "plt.xlabel('Epoch')\n",
        "plt.ylabel('Loss')\n",
        "plt.show()"
      ],
      "metadata": {
        "colab": {
          "base_uri": "https://localhost:8080/",
          "height": 453
        },
        "id": "CNV2YbmBBwgL",
        "outputId": "94c1f47b-e437-4969-f095-6759aa01d0e3"
      },
      "execution_count": 37,
      "outputs": [
        {
          "output_type": "display_data",
          "data": {
            "text/plain": [
              "<Figure size 640x480 with 1 Axes>"
            ],
            "image/png": "[encoded data removed]"
          },
          "metadata": {}
        }
      ]
    },
    {
      "cell_type": "code",
      "source": [
        "# Get training accuracy histories\n",
        "training_accuracy = history.history['accuracy']\n",
        "\n",
        "# Create count of the number of epochs\n",
        "epoch_count = range(1, len(training_loss) + 1)\n",
        "\n",
        "# Visualize loss history\n",
        "plt.plot(epoch_count, training_accuracy, 'b-')\n",
        "plt.legend(['Training Accuracy'])\n",
        "plt.xlabel('Epoch')\n",
        "plt.ylabel('Accuracy')\n",
        "plt.show();"
      ],
      "metadata": {
        "colab": {
          "base_uri": "https://localhost:8080/",
          "height": 449
        },
        "id": "dvJXbeDsC1fA",
        "outputId": "34aac493-b76e-4fe6-ee3b-1f41a977f6fa"
      },
      "execution_count": 38,
      "outputs": [
        {
          "output_type": "display_data",
          "data": {
            "text/plain": [
              "<Figure size 640x480 with 1 Axes>"
            ],
            "image/png": "[encoded data removed]"
          },
          "metadata": {}
        }
      ]
    }
  ]
}