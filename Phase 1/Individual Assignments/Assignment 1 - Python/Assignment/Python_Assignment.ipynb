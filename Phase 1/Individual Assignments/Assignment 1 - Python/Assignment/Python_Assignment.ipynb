{
  "nbformat": 4,
  "nbformat_minor": 0,
  "metadata": {
    "colab": {
      "provenance": [],
      "authorship_tag": "ABX9TyOADQkLmPoLK98eJoCCJbnG",
      "include_colab_link": true
    },
    "kernelspec": {
      "name": "python3",
      "display_name": "Python 3"
    },
    "language_info": {
      "name": "python"
    }
  },
  "cells": [
    {
      "cell_type": "markdown",
      "metadata": {
        "id": "view-in-github",
        "colab_type": "text"
      },
      "source": [
        "<a href=\"https://colab.research.google.com/github/jdxxmahmud/mahdy-sir-re-acad-course/blob/main/Phase%201/Individual%20Assignments/Assignment%201%20-%20Python/Assignment/Python_Assignment.ipynb\" target=\"_parent\"><img src=\"https://colab.research.google.com/assets/colab-badge.svg\" alt=\"Open In Colab\"/></a>"
      ]
    },
    {
      "cell_type": "markdown",
      "source": [
        "## Value generator from series\n",
        "\n",
        "When a value is provided into the function, it will return the sum of the series."
      ],
      "metadata": {
        "id": "C1vZcLx8zl9S"
      }
    },
    {
      "cell_type": "code",
      "execution_count": 2,
      "metadata": {
        "id": "5ozm2kpVFkmb"
      },
      "outputs": [],
      "source": [
        "def get_val_from_series(val: int):\n",
        "    print(f'User input: {val}')\n",
        "    res = 0\n",
        "\n",
        "    if val < 0:\n",
        "        while val < 0:\n",
        "            print(\"Please enter a value greater than 0!\")\n",
        "            val = int(input())\n",
        "    else:\n",
        "        for i in range(val + 1):\n",
        "        # print(i, pow(i, 2)/5)\n",
        "            res  += pow(i, 2)/5\n",
        "\n",
        "    out = round(res, 2)\n",
        "\n",
        "    print(f\"Output: {out}\")\n",
        "\n",
        "    return round(res, 2)"
      ]
    },
    {
      "cell_type": "code",
      "source": [
        "a = get_val_from_series(2)"
      ],
      "metadata": {
        "id": "2R_vF2gTF5z4",
        "colab": {
          "base_uri": "https://localhost:8080/"
        },
        "outputId": "95d7b6d5-3fd6-4540-d9ec-93e3e9fb706e"
      },
      "execution_count": 3,
      "outputs": [
        {
          "output_type": "stream",
          "name": "stdout",
          "text": [
            "User input: 2\n",
            "Output: 1.0\n"
          ]
        }
      ]
    },
    {
      "cell_type": "markdown",
      "source": [
        "## Class Cat"
      ],
      "metadata": {
        "id": "iBNbu8H1zgHM"
      }
    },
    {
      "cell_type": "code",
      "source": [
        "class Cat:\n",
        "\n",
        "\n",
        "    def __init__(self, name, x = 0, y = 0) -> None:\n",
        "        self.x = x\n",
        "        self.y = y\n",
        "        self.name = name\n",
        "\n",
        "    def update_x_y(self, x, y):\n",
        "        self.x = x\n",
        "        self.y = y\n",
        "\n",
        "    def find_cat_x_y(self, name):\n",
        "        self.x = get_val_from_series(int(input(f\"\\nPlease enter a for {name}: \")))\n",
        "        self.y = get_val_from_series(int(input(f\"\\nPlease enter b for {name}: \")))\n",
        "\n",
        "    def show_cat(self):\n",
        "        print(f\"\\nPosition of {self.name} is {[self.x, self.y]}\")\n",
        "\n",
        "    def update_cat(self):\n",
        "\n",
        "        if input(f\"\\nDo you want to update {self.name}'s position? [y/n]: \").upper() == \"Y\":\n",
        "            self.x = get_val_from_series(int(input(f\"\\nPlease enter a for {self.name}: \")))\n",
        "            self.y = get_val_from_series(int(input(f\"\\nPlease enter b for the {self.name}: \")))\n",
        "            print(f\"\\n{self.name} has changed position to the point {[self.x, self.y]}\")\n",
        "        else:\n",
        "            print(f\"\\n{self.name} is still at the point, {[self.x, self.y]}\")"
      ],
      "metadata": {
        "id": "4Z6XH2G_HBA3"
      },
      "execution_count": 4,
      "outputs": []
    },
    {
      "cell_type": "markdown",
      "source": [
        "## Finding distance"
      ],
      "metadata": {
        "id": "lQJhJHJVz8pa"
      }
    },
    {
      "cell_type": "code",
      "source": [
        "def manhattan_distance(point1, point2):\n",
        "    return round(abs(point1[0] - point2[0]) + abs(point1[1] - point2[1]), 2)\n",
        "\n",
        "\n",
        "def pythagorean_distance(point1, point2):\n",
        "    return round(pow(pow(point1[0] - point2[0], 2) + pow(point1[1] - point2[1], 2), .5), 2)\n",
        "\n",
        "\n",
        "def find_cat_mouse_distance(cats, mouse):\n",
        "\n",
        "    x =  input(\"\\nAvailable distance finding methods\\n\\t[1] Manhattan Distance.\\n\\t[2] Pythagorean Distance\\n\\tChoose your option: \")\n",
        "\n",
        "    while x != '1' and x != '2':\n",
        "        x = input(\"\\nInvalid Input! Enter [q] to quit or enter valid input: \").lower()\n",
        "        if x == \"q\":\n",
        "            print(\"\\nQuitting the program\\n\\n\")\n",
        "            return -1\n",
        "\n",
        "\n",
        "    distances = {}\n",
        "    dist_methods = [\"manhattan_distance\", \"pythagorean_distance\"]\n",
        "\n",
        "\n",
        "    print(f\"\\n\\nDistance method chosen {dist_methods[int(x) - 1]}\")\n",
        "\n",
        "    printLine()\n",
        "    print(\"\\n\\nCalculating...\\n\\n\")\n",
        "\n",
        "\n",
        "    for cat in cats:\n",
        "        distances[cat.name] = eval(f'{dist_methods[int(x) - 1]}({[cat.x, cat.y]}, {[mouse.x, mouse.y]})')\n",
        "\n",
        "\n",
        "    print(f'Distance of the cats with the mouse are: {distances}')\n",
        "\n",
        "\n",
        "    min_dist_cats = find_cat_min_distance_with_mouse(distances)\n",
        "\n",
        "\n",
        "    print(f\"\\nThe cat(s) closest to the mouse: {min_dist_cats}\")\n",
        "\n",
        "    res = {cat: distances[cat] for cat in min_dist_cats}\n",
        "\n",
        "    return res\n",
        "\n",
        "\n",
        "def find_cat_min_distance_with_mouse(distances):\n",
        "\n",
        "    min_dist = min(distances.values())\n",
        "    res = [key for key in distances if distances[key] == min_dist]\n",
        "\n",
        "    return res"
      ],
      "metadata": {
        "id": "Sg9HrfsTz5SW"
      },
      "execution_count": 5,
      "outputs": []
    },
    {
      "cell_type": "markdown",
      "source": [
        "## Class Mouse"
      ],
      "metadata": {
        "id": "aEgsOqlB0Dzn"
      }
    },
    {
      "cell_type": "code",
      "source": [
        "class Mouse:\n",
        "\n",
        "    x = 0\n",
        "    y = 0\n",
        "\n",
        "    def __init__(self) -> None:\n",
        "        self.get_mouse_position()\n",
        "\n",
        "    def get_mouse_position(self):\n",
        "\n",
        "        mouse = [0, 0]\n",
        "        if input(\"\\nDo you want to manually create mouse's position? [y/n]: \").upper() == \"Y\":\n",
        "            self.x = get_val_from_series(int(input(f\"\\nPlease enter a for the mouse: \")))\n",
        "            self.y = get_val_from_series(int(input(f\"\\nPlease enter b for the mouse: \")))\n",
        "            print(f\"\\nThe mouse is at the point, {[self.x, self.y]}\")\n",
        "        else:\n",
        "            print(f\"\\nThe mouse is at the origin, {[self.x, self.y]}\")\n",
        "\n",
        "    def update_mouse_position(self):\n",
        "\n",
        "        if input(\"\\nDo you want to update mouse's position? [y/n]: \").upper() == \"Y\":\n",
        "            self.x = get_val_from_series(int(input(f\"\\nPlease enter a for the mouse: \")))\n",
        "            self.y = get_val_from_series(int(input(f\"\\nPlease enter b for the mouse: \")))\n",
        "            print(f\"\\nThe mouse is changed position to the point {[self.x, self.y]}\")\n",
        "        else:\n",
        "            print(f\"\\nThe mouse is still at the point, {[self.x, self.y]}\")"
      ],
      "metadata": {
        "id": "hQSQBfJ-z-wM"
      },
      "execution_count": 6,
      "outputs": []
    },
    {
      "cell_type": "code",
      "source": [
        "def printLine():\n",
        "    line = \"-\" * 15 + \"*\" * 3 + \"-\" * 15\n",
        "    print(f\"\\n{line}\")"
      ],
      "metadata": {
        "id": "v83MezdQ0TDy"
      },
      "execution_count": 7,
      "outputs": []
    },
    {
      "cell_type": "code",
      "source": [
        "def get_cats():\n",
        "    catNames = [\"CatA\", \"CatB\", \"CatC\"]\n",
        "\n",
        "    cats = []\n",
        "\n",
        "    for cat in catNames:\n",
        "        x = get_val_from_series(int(input(f\"\\nPlease enter a for {cat}: \")))\n",
        "        y = get_val_from_series(int(input(f\"\\nPlease enter b for {cat}: \")))\n",
        "\n",
        "        cats.append(Cat(cat, x, y))\n",
        "\n",
        "    printLine()\n",
        "\n",
        "    for cat in cats:\n",
        "        cat.show_cat()\n",
        "\n",
        "\n",
        "    return cats\n",
        "\n",
        "def update_cats(cats):\n",
        "    for cat in cats:\n",
        "        cat.update_cat()\n",
        "\n",
        "    return cats"
      ],
      "metadata": {
        "id": "Pa62GCnE0ZG4"
      },
      "execution_count": 8,
      "outputs": []
    },
    {
      "cell_type": "code",
      "source": [
        "cats = get_cats()\n",
        "\n",
        "printLine()\n",
        "\n",
        "mouse = Mouse()\n",
        "\n",
        "printLine()\n",
        "\n",
        "if input(\"\\nDo you want to change any cat or mouse's position? [y/n]: \").lower() == 'y':\n",
        "\n",
        "    cats = update_cats(cats)\n",
        "    mouse.update_mouse_position()\n",
        "\n",
        "printLine()\n",
        "\n",
        "min_dist = find_cat_mouse_distance(cats, mouse)\n",
        "\n",
        "print(f'\\nWinner: {min_dist}\\n\\n')"
      ],
      "metadata": {
        "colab": {
          "base_uri": "https://localhost:8080/"
        },
        "id": "UINqFaTI0eQI",
        "outputId": "0f7eb875-5d80-4f7f-be62-273ce1bc7aaf"
      },
      "execution_count": 9,
      "outputs": [
        {
          "output_type": "stream",
          "name": "stdout",
          "text": [
            "\n",
            "Please enter a for CatA: 1\n",
            "User input: 1\n",
            "Output: 0.2\n",
            "\n",
            "Please enter b for CatA: 2\n",
            "User input: 2\n",
            "Output: 1.0\n",
            "\n",
            "Please enter a for CatB: 3\n",
            "User input: 3\n",
            "Output: 2.8\n",
            "\n",
            "Please enter b for CatB: 2\n",
            "User input: 2\n",
            "Output: 1.0\n",
            "\n",
            "Please enter a for CatC: 3\n",
            "User input: 3\n",
            "Output: 2.8\n",
            "\n",
            "Please enter b for CatC: 4\n",
            "User input: 4\n",
            "Output: 6.0\n",
            "\n",
            "---------------***---------------\n",
            "\n",
            "Position of CatA is [0.2, 1.0]\n",
            "\n",
            "Position of CatB is [2.8, 1.0]\n",
            "\n",
            "Position of CatC is [2.8, 6.0]\n",
            "\n",
            "---------------***---------------\n",
            "\n",
            "Do you want to manually create mouse's position? [y/n]: n\n",
            "\n",
            "The mouse is at the origin, [0, 0]\n",
            "\n",
            "---------------***---------------\n",
            "\n",
            "Do you want to change any cat or mouse's position? [y/n]: n\n",
            "\n",
            "---------------***---------------\n",
            "\n",
            "Available distance finding methods\n",
            "\t[1] Manhattan Distance.\n",
            "\t[2] Pythagorean Distance\n",
            "\tChoose your option: 1\n",
            "\n",
            "\n",
            "Distance method chosen manhattan_distance\n",
            "\n",
            "---------------***---------------\n",
            "\n",
            "\n",
            "Calculating...\n",
            "\n",
            "\n",
            "Distance of the cats with the mouse are: {'CatA': 1.2, 'CatB': 3.8, 'CatC': 8.8}\n",
            "\n",
            "The cat(s) closest to the mouse: ['CatA']\n",
            "\n",
            "Winner: {'CatA': 1.2}\n",
            "\n",
            "\n"
          ]
        }
      ]
    },
    {
      "cell_type": "markdown",
      "source": [],
      "metadata": {
        "id": "MZT1Whafz4IE"
      }
    }
  ]
}